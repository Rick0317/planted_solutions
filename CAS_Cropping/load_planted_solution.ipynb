{
 "cells": [
  {
   "cell_type": "code",
   "execution_count": 1,
   "id": "6c7bd310",
   "metadata": {},
   "outputs": [],
   "source": [
    "import ferm_utils as feru\n",
    "import csa_utils as csau\n",
    "import openfermion as of\n",
    "import numpy as np\n",
    "from sdstate import *\n",
    "import random\n",
    "import h5py\n",
    "import sys\n",
    "from matrix_utils import construct_orthogonal\n",
    "import pickle\n",
    "\n",
    "ps_path = \"planted_solutions/\"\n",
    "# File name in ps_path folder\n",
    "file_name = \"2_co2_6-311++G___12_9d464efb-b312-45f8-b0ba-8c42663059dc.pkl\"\n",
    "\n",
    "def construct_Hamiltonian_with_solution(path, file_name, key = \"\"):\n",
    "    \"\"\"\n",
    "    Load the planted_soluiton Hamiltonian from the planted_solution, with key to be the block structure of\n",
    "    encoding the Hamiltonian.\n",
    "    \"\"\"\n",
    "    with open(ps_path + file_name, 'rb') as handle:\n",
    "        dic = pickle.load(handle)\n",
    "    if not key:\n",
    "        key = list(dic.keys())[0]\n",
    "    cas_x = dic[key][\"cas_x\"]\n",
    "    killer = dic[key][\"killer\"]\n",
    "    k = dic[key][\"k\"]\n",
    "    upnum = dic[key][\"upnum\"]\n",
    "    spin_orbs = dic[key][\"spin_orbs\"]\n",
    "#     Number of electrons in each CAS block\n",
    "    e_nums = dic[key][\"e_nums\"]\n",
    "#     Solution in a list of sdstates, each sdstate represent the ground state with in each CAS block.\n",
    "# This can be generalized into the general solution with concatenate() in sdstates, but not recommended as it \n",
    "# requires exponential time and space.\n",
    "    sol = dic[key][\"sol\"]\n",
    "#     CAS 2e tensor\n",
    "    tbt = csau.get_cas_matrix(cas_x, spin_orbs, k)\n",
    "#     Construct hidden 2e tensor and Hamiltonian\n",
    "    killer_tbt = feru.get_chemist_tbt(killer, spin_orbs, spin_orb = True)\n",
    "    killer_one_body = of.normal_ordered(killer - feru.get_ferm_op(killer_tbt, spin_orb=True))\n",
    "    killer_onebody_matrix = feru.get_obt(killer_one_body, n = spin_orbs, spin_orb = True)\n",
    "    killer_onebody_tbt = feru.onebody_to_twobody(killer_onebody_matrix)\n",
    "    Htbt_killer = np.add(killer_tbt, killer_onebody_tbt) \n",
    "    Htbt_with_killer = np.add(tbt, Htbt_killer)\n",
    "#     Set up random unitary to hide 2e tensor, the parameters here are initally set as random unitary rotations\n",
    "    random_uparams = np.random.rand(upnum)\n",
    "    U = construct_orthogonal(spin_orbs, random_uparams)\n",
    "#     Hide 2e etensor with random unitary transformation\n",
    "    Htbt_hidden = csau.cartan_orbtransf(Htbt_with_killer, U, complex = False)\n",
    "#     Hidden 2e tensor without killer\n",
    "    tbt_hidden = csau.cartan_orbtransf(tbt, U, complex = False)\n",
    "    return tbt, tbt_hidden, Htbt_with_killer, Htbt_hidden, sol, e_nums\n",
    "\n",
    "tbt, tbt_hidden, Htbt_with_killer, Htbt_hidden, sol, e_nums = construct_Hamiltonian_with_solution(ps_path, file_name)"
   ]
  },
  {
   "cell_type": "code",
   "execution_count": 2,
   "id": "57d29dd5",
   "metadata": {},
   "outputs": [
    {
     "name": "stdout",
     "output_type": "stream",
     "text": [
      "(12, 12, 12, 12)\n"
     ]
    }
   ],
   "source": [
    "print(tbt.shape)"
   ]
  }
 ],
 "metadata": {
  "kernelspec": {
   "display_name": "Python 3 (ipykernel)",
   "language": "python",
   "name": "python3"
  },
  "language_info": {
   "codemirror_mode": {
    "name": "ipython",
    "version": 3
   },
   "file_extension": ".py",
   "mimetype": "text/x-python",
   "name": "python",
   "nbconvert_exporter": "python",
   "pygments_lexer": "ipython3",
   "version": "3.10.7"
  }
 },
 "nbformat": 4,
 "nbformat_minor": 5
}
